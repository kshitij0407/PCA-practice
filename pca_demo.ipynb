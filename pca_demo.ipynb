{
 "cells": [
  {
   "cell_type": "code",
   "execution_count": 7,
   "source": [
    "# import packages\n",
    "\n",
    "import pandas as pd\n",
    "import numpy as np\n",
    "import altair as alt\n",
    "from sklearn.model_selection import train_test_split\n",
    "from sklearn import metrics\n",
    "from sklearn.decomposition import PCA\n",
    "from sklearn.linear_model import LogisticRegression\n",
    "from sklearn.preprocessing import StandardScaler\n",
    "from sklearn.preprocessing import LabelEncoder"
   ],
   "outputs": [],
   "metadata": {}
  },
  {
   "cell_type": "code",
   "execution_count": 6,
   "source": [
    "pip install -U scikit-learn"
   ],
   "outputs": [
    {
     "output_type": "stream",
     "name": "stdout",
     "text": [
      "Collecting scikit-learn\n",
      "  Downloading scikit_learn-1.2.2-cp310-cp310-macosx_10_9_x86_64.whl (9.1 MB)\n",
      "\u001b[K     |████████████████████████████████| 9.1 MB 7.3 MB/s \n",
      "\u001b[?25hRequirement already satisfied: scipy>=1.3.2 in /Library/Frameworks/Python.framework/Versions/3.10/lib/python3.10/site-packages (from scikit-learn) (1.10.1)\n",
      "Collecting joblib>=1.1.1\n",
      "  Using cached joblib-1.2.0-py3-none-any.whl (297 kB)\n",
      "Requirement already satisfied: numpy>=1.17.3 in /Library/Frameworks/Python.framework/Versions/3.10/lib/python3.10/site-packages (from scikit-learn) (1.23.5)\n",
      "Collecting threadpoolctl>=2.0.0\n",
      "  Downloading threadpoolctl-3.1.0-py3-none-any.whl (14 kB)\n",
      "Installing collected packages: threadpoolctl, joblib, scikit-learn\n",
      "Successfully installed joblib-1.2.0 scikit-learn-1.2.2 threadpoolctl-3.1.0\n",
      "\u001b[33mWARNING: You are using pip version 21.2.4; however, version 23.1.2 is available.\n",
      "You should consider upgrading via the '/usr/local/bin/python3 -m pip install --upgrade pip' command.\u001b[0m\n",
      "Note: you may need to restart the kernel to use updated packages.\n"
     ]
    }
   ],
   "metadata": {}
  },
  {
   "cell_type": "code",
   "execution_count": 8,
   "source": [
    "\n",
    "# read in data\n",
    "data = pd.read_csv('adult.csv')\n",
    "\n",
    "data.head(5)"
   ],
   "outputs": [
    {
     "output_type": "execute_result",
     "data": {
      "text/plain": [
       "   age workclass  fnlwgt     education  education.num marital.status   \n",
       "0   90         ?   77053       HS-grad              9        Widowed  \\\n",
       "1   82   Private  132870       HS-grad              9        Widowed   \n",
       "2   66         ?  186061  Some-college             10        Widowed   \n",
       "3   54   Private  140359       7th-8th              4       Divorced   \n",
       "4   41   Private  264663  Some-college             10      Separated   \n",
       "\n",
       "          occupation   relationship   race     sex  capital.gain   \n",
       "0                  ?  Not-in-family  White  Female             0  \\\n",
       "1    Exec-managerial  Not-in-family  White  Female             0   \n",
       "2                  ?      Unmarried  Black  Female             0   \n",
       "3  Machine-op-inspct      Unmarried  White  Female             0   \n",
       "4     Prof-specialty      Own-child  White  Female             0   \n",
       "\n",
       "   capital.loss  hours.per.week native.country income  \n",
       "0          4356              40  United-States  <=50K  \n",
       "1          4356              18  United-States  <=50K  \n",
       "2          4356              40  United-States  <=50K  \n",
       "3          3900              40  United-States  <=50K  \n",
       "4          3900              40  United-States  <=50K  "
      ],
      "text/html": [
       "<div>\n",
       "<style scoped>\n",
       "    .dataframe tbody tr th:only-of-type {\n",
       "        vertical-align: middle;\n",
       "    }\n",
       "\n",
       "    .dataframe tbody tr th {\n",
       "        vertical-align: top;\n",
       "    }\n",
       "\n",
       "    .dataframe thead th {\n",
       "        text-align: right;\n",
       "    }\n",
       "</style>\n",
       "<table border=\"1\" class=\"dataframe\">\n",
       "  <thead>\n",
       "    <tr style=\"text-align: right;\">\n",
       "      <th></th>\n",
       "      <th>age</th>\n",
       "      <th>workclass</th>\n",
       "      <th>fnlwgt</th>\n",
       "      <th>education</th>\n",
       "      <th>education.num</th>\n",
       "      <th>marital.status</th>\n",
       "      <th>occupation</th>\n",
       "      <th>relationship</th>\n",
       "      <th>race</th>\n",
       "      <th>sex</th>\n",
       "      <th>capital.gain</th>\n",
       "      <th>capital.loss</th>\n",
       "      <th>hours.per.week</th>\n",
       "      <th>native.country</th>\n",
       "      <th>income</th>\n",
       "    </tr>\n",
       "  </thead>\n",
       "  <tbody>\n",
       "    <tr>\n",
       "      <th>0</th>\n",
       "      <td>90</td>\n",
       "      <td>?</td>\n",
       "      <td>77053</td>\n",
       "      <td>HS-grad</td>\n",
       "      <td>9</td>\n",
       "      <td>Widowed</td>\n",
       "      <td>?</td>\n",
       "      <td>Not-in-family</td>\n",
       "      <td>White</td>\n",
       "      <td>Female</td>\n",
       "      <td>0</td>\n",
       "      <td>4356</td>\n",
       "      <td>40</td>\n",
       "      <td>United-States</td>\n",
       "      <td>&lt;=50K</td>\n",
       "    </tr>\n",
       "    <tr>\n",
       "      <th>1</th>\n",
       "      <td>82</td>\n",
       "      <td>Private</td>\n",
       "      <td>132870</td>\n",
       "      <td>HS-grad</td>\n",
       "      <td>9</td>\n",
       "      <td>Widowed</td>\n",
       "      <td>Exec-managerial</td>\n",
       "      <td>Not-in-family</td>\n",
       "      <td>White</td>\n",
       "      <td>Female</td>\n",
       "      <td>0</td>\n",
       "      <td>4356</td>\n",
       "      <td>18</td>\n",
       "      <td>United-States</td>\n",
       "      <td>&lt;=50K</td>\n",
       "    </tr>\n",
       "    <tr>\n",
       "      <th>2</th>\n",
       "      <td>66</td>\n",
       "      <td>?</td>\n",
       "      <td>186061</td>\n",
       "      <td>Some-college</td>\n",
       "      <td>10</td>\n",
       "      <td>Widowed</td>\n",
       "      <td>?</td>\n",
       "      <td>Unmarried</td>\n",
       "      <td>Black</td>\n",
       "      <td>Female</td>\n",
       "      <td>0</td>\n",
       "      <td>4356</td>\n",
       "      <td>40</td>\n",
       "      <td>United-States</td>\n",
       "      <td>&lt;=50K</td>\n",
       "    </tr>\n",
       "    <tr>\n",
       "      <th>3</th>\n",
       "      <td>54</td>\n",
       "      <td>Private</td>\n",
       "      <td>140359</td>\n",
       "      <td>7th-8th</td>\n",
       "      <td>4</td>\n",
       "      <td>Divorced</td>\n",
       "      <td>Machine-op-inspct</td>\n",
       "      <td>Unmarried</td>\n",
       "      <td>White</td>\n",
       "      <td>Female</td>\n",
       "      <td>0</td>\n",
       "      <td>3900</td>\n",
       "      <td>40</td>\n",
       "      <td>United-States</td>\n",
       "      <td>&lt;=50K</td>\n",
       "    </tr>\n",
       "    <tr>\n",
       "      <th>4</th>\n",
       "      <td>41</td>\n",
       "      <td>Private</td>\n",
       "      <td>264663</td>\n",
       "      <td>Some-college</td>\n",
       "      <td>10</td>\n",
       "      <td>Separated</td>\n",
       "      <td>Prof-specialty</td>\n",
       "      <td>Own-child</td>\n",
       "      <td>White</td>\n",
       "      <td>Female</td>\n",
       "      <td>0</td>\n",
       "      <td>3900</td>\n",
       "      <td>40</td>\n",
       "      <td>United-States</td>\n",
       "      <td>&lt;=50K</td>\n",
       "    </tr>\n",
       "  </tbody>\n",
       "</table>\n",
       "</div>"
      ]
     },
     "metadata": {},
     "execution_count": 8
    }
   ],
   "metadata": {}
  },
  {
   "cell_type": "code",
   "execution_count": 9,
   "source": [
    "# important to know shape of data \n",
    "data.shape"
   ],
   "outputs": [
    {
     "output_type": "execute_result",
     "data": {
      "text/plain": [
       "(32561, 15)"
      ]
     },
     "metadata": {},
     "execution_count": 9
    }
   ],
   "metadata": {}
  },
  {
   "cell_type": "code",
   "execution_count": 10,
   "source": [
    "data.info()"
   ],
   "outputs": [
    {
     "output_type": "stream",
     "name": "stdout",
     "text": [
      "<class 'pandas.core.frame.DataFrame'>\n",
      "RangeIndex: 32561 entries, 0 to 32560\n",
      "Data columns (total 15 columns):\n",
      " #   Column          Non-Null Count  Dtype \n",
      "---  ------          --------------  ----- \n",
      " 0   age             32561 non-null  int64 \n",
      " 1   workclass       32561 non-null  object\n",
      " 2   fnlwgt          32561 non-null  int64 \n",
      " 3   education       32561 non-null  object\n",
      " 4   education.num   32561 non-null  int64 \n",
      " 5   marital.status  32561 non-null  object\n",
      " 6   occupation      32561 non-null  object\n",
      " 7   relationship    32561 non-null  object\n",
      " 8   race            32561 non-null  object\n",
      " 9   sex             32561 non-null  object\n",
      " 10  capital.gain    32561 non-null  int64 \n",
      " 11  capital.loss    32561 non-null  int64 \n",
      " 12  hours.per.week  32561 non-null  int64 \n",
      " 13  native.country  32561 non-null  object\n",
      " 14  income          32561 non-null  object\n",
      "dtypes: int64(6), object(9)\n",
      "memory usage: 3.7+ MB\n"
     ]
    }
   ],
   "metadata": {}
  },
  {
   "cell_type": "code",
   "execution_count": 11,
   "source": [
    "# check for missing values\n",
    "data.isnull().mean().sort_values(ascending=False)"
   ],
   "outputs": [
    {
     "output_type": "execute_result",
     "data": {
      "text/plain": [
       "age               0.0\n",
       "workclass         0.0\n",
       "fnlwgt            0.0\n",
       "education         0.0\n",
       "education.num     0.0\n",
       "marital.status    0.0\n",
       "occupation        0.0\n",
       "relationship      0.0\n",
       "race              0.0\n",
       "sex               0.0\n",
       "capital.gain      0.0\n",
       "capital.loss      0.0\n",
       "hours.per.week    0.0\n",
       "native.country    0.0\n",
       "income            0.0\n",
       "dtype: float64"
      ]
     },
     "metadata": {},
     "execution_count": 11
    }
   ],
   "metadata": {}
  },
  {
   "cell_type": "code",
   "execution_count": 12,
   "source": [
    "# change \"?\" to NA values\n",
    "data[data == '?'] = np.nan"
   ],
   "outputs": [],
   "metadata": {}
  },
  {
   "cell_type": "code",
   "execution_count": 13,
   "source": [
    "# check for missing values (again)\n",
    "data.isnull().mean().sort_values(ascending=False)"
   ],
   "outputs": [
    {
     "output_type": "execute_result",
     "data": {
      "text/plain": [
       "occupation        0.056601\n",
       "workclass         0.056386\n",
       "native.country    0.017905\n",
       "age               0.000000\n",
       "fnlwgt            0.000000\n",
       "education         0.000000\n",
       "education.num     0.000000\n",
       "marital.status    0.000000\n",
       "relationship      0.000000\n",
       "race              0.000000\n",
       "sex               0.000000\n",
       "capital.gain      0.000000\n",
       "capital.loss      0.000000\n",
       "hours.per.week    0.000000\n",
       "income            0.000000\n",
       "dtype: float64"
      ]
     },
     "metadata": {},
     "execution_count": 13
    }
   ],
   "metadata": {}
  },
  {
   "cell_type": "code",
   "execution_count": 14,
   "source": [
    "# drop all rows with NA values\n",
    "data = data.dropna()\n",
    "\n",
    "# Could also impute with mode...\n",
    "# mode_values = data.mode().iloc[0]\n",
    "# data = data.fillna(mode_values)"
   ],
   "outputs": [],
   "metadata": {}
  },
  {
   "cell_type": "code",
   "execution_count": 15,
   "source": [
    "data.shape"
   ],
   "outputs": [
    {
     "output_type": "execute_result",
     "data": {
      "text/plain": [
       "(30162, 15)"
      ]
     },
     "metadata": {},
     "execution_count": 15
    }
   ],
   "metadata": {}
  },
  {
   "cell_type": "code",
   "execution_count": 16,
   "source": [
    "# define target variable and feature variables\n",
    "X = data.drop(['income'], axis=1)\n",
    "y = data['income']"
   ],
   "outputs": [],
   "metadata": {}
  },
  {
   "cell_type": "code",
   "execution_count": 17,
   "source": [
    "# create train/test sets\n",
    "X_tr, X_te, y_tr, y_te = train_test_split(X, y, test_size = 0.3, random_state = 90)"
   ],
   "outputs": [],
   "metadata": {}
  },
  {
   "cell_type": "code",
   "execution_count": 18,
   "source": [
    "cat = ['workclass', 'education', 'marital.status', 'occupation', 'relationship', 'race', 'sex', 'native.country']\n",
    "\n",
    "for feature in cat:\n",
    "    enc = LabelEncoder()\n",
    "    X_tr[feature] = enc.fit_transform(X_tr[feature])\n",
    "    X_te[feature] = enc.fit_transform(X_te[feature])"
   ],
   "outputs": [],
   "metadata": {}
  },
  {
   "cell_type": "code",
   "execution_count": 19,
   "source": [
    "# scale the data\n",
    "ss = StandardScaler()\n",
    "\n",
    "X_tr = pd.DataFrame(ss.fit_transform(X_tr), columns=X.columns)\n",
    "X_te = pd.DataFrame(ss.fit_transform(X_te), columns=X.columns)"
   ],
   "outputs": [],
   "metadata": {}
  },
  {
   "cell_type": "code",
   "execution_count": 20,
   "source": [
    "# check that all categorical variables have been removed\n",
    "X_tr.head()"
   ],
   "outputs": [
    {
     "output_type": "execute_result",
     "data": {
      "text/plain": [
       "        age  workclass    fnlwgt  education  education.num  marital.status   \n",
       "0 -0.257925   0.838679  0.001456   1.224504      -0.046913       -0.395750  \\\n",
       "1 -0.182098  -0.209074  1.636195   0.175607      -0.440422       -0.395750   \n",
       "2 -0.030445   1.886433 -0.409512  -0.348842       1.133617       -0.395750   \n",
       "3  1.258609  -0.209074  0.831980   1.224504      -0.046913       -1.729317   \n",
       "4  0.045382   0.838679 -0.630341  -0.873290       0.740107       -0.395750   \n",
       "\n",
       "   occupation  relationship      race       sex  capital.gain  capital.loss   \n",
       "0    1.255193     -0.889389  0.385319  0.695708     -0.147962      4.071373  \\\n",
       "1    1.752587     -0.889389  0.385319  0.695708     -0.147962     -0.218633   \n",
       "2    0.757799     -0.889389 -3.216998  0.695708      0.280748     -0.218633   \n",
       "3    1.006496     -0.265484  0.385319  0.695708     -0.147962     -0.218633   \n",
       "4   -0.734382     -0.889389  0.385319  0.695708      1.927749     -0.218633   \n",
       "\n",
       "   hours.per.week  native.country  \n",
       "0       -0.073877        0.264747  \n",
       "1        0.343975        0.264747  \n",
       "2        1.597530        0.264747  \n",
       "3       -0.073877        0.264747  \n",
       "4        1.179678        0.264747  "
      ],
      "text/html": [
       "<div>\n",
       "<style scoped>\n",
       "    .dataframe tbody tr th:only-of-type {\n",
       "        vertical-align: middle;\n",
       "    }\n",
       "\n",
       "    .dataframe tbody tr th {\n",
       "        vertical-align: top;\n",
       "    }\n",
       "\n",
       "    .dataframe thead th {\n",
       "        text-align: right;\n",
       "    }\n",
       "</style>\n",
       "<table border=\"1\" class=\"dataframe\">\n",
       "  <thead>\n",
       "    <tr style=\"text-align: right;\">\n",
       "      <th></th>\n",
       "      <th>age</th>\n",
       "      <th>workclass</th>\n",
       "      <th>fnlwgt</th>\n",
       "      <th>education</th>\n",
       "      <th>education.num</th>\n",
       "      <th>marital.status</th>\n",
       "      <th>occupation</th>\n",
       "      <th>relationship</th>\n",
       "      <th>race</th>\n",
       "      <th>sex</th>\n",
       "      <th>capital.gain</th>\n",
       "      <th>capital.loss</th>\n",
       "      <th>hours.per.week</th>\n",
       "      <th>native.country</th>\n",
       "    </tr>\n",
       "  </thead>\n",
       "  <tbody>\n",
       "    <tr>\n",
       "      <th>0</th>\n",
       "      <td>-0.257925</td>\n",
       "      <td>0.838679</td>\n",
       "      <td>0.001456</td>\n",
       "      <td>1.224504</td>\n",
       "      <td>-0.046913</td>\n",
       "      <td>-0.395750</td>\n",
       "      <td>1.255193</td>\n",
       "      <td>-0.889389</td>\n",
       "      <td>0.385319</td>\n",
       "      <td>0.695708</td>\n",
       "      <td>-0.147962</td>\n",
       "      <td>4.071373</td>\n",
       "      <td>-0.073877</td>\n",
       "      <td>0.264747</td>\n",
       "    </tr>\n",
       "    <tr>\n",
       "      <th>1</th>\n",
       "      <td>-0.182098</td>\n",
       "      <td>-0.209074</td>\n",
       "      <td>1.636195</td>\n",
       "      <td>0.175607</td>\n",
       "      <td>-0.440422</td>\n",
       "      <td>-0.395750</td>\n",
       "      <td>1.752587</td>\n",
       "      <td>-0.889389</td>\n",
       "      <td>0.385319</td>\n",
       "      <td>0.695708</td>\n",
       "      <td>-0.147962</td>\n",
       "      <td>-0.218633</td>\n",
       "      <td>0.343975</td>\n",
       "      <td>0.264747</td>\n",
       "    </tr>\n",
       "    <tr>\n",
       "      <th>2</th>\n",
       "      <td>-0.030445</td>\n",
       "      <td>1.886433</td>\n",
       "      <td>-0.409512</td>\n",
       "      <td>-0.348842</td>\n",
       "      <td>1.133617</td>\n",
       "      <td>-0.395750</td>\n",
       "      <td>0.757799</td>\n",
       "      <td>-0.889389</td>\n",
       "      <td>-3.216998</td>\n",
       "      <td>0.695708</td>\n",
       "      <td>0.280748</td>\n",
       "      <td>-0.218633</td>\n",
       "      <td>1.597530</td>\n",
       "      <td>0.264747</td>\n",
       "    </tr>\n",
       "    <tr>\n",
       "      <th>3</th>\n",
       "      <td>1.258609</td>\n",
       "      <td>-0.209074</td>\n",
       "      <td>0.831980</td>\n",
       "      <td>1.224504</td>\n",
       "      <td>-0.046913</td>\n",
       "      <td>-1.729317</td>\n",
       "      <td>1.006496</td>\n",
       "      <td>-0.265484</td>\n",
       "      <td>0.385319</td>\n",
       "      <td>0.695708</td>\n",
       "      <td>-0.147962</td>\n",
       "      <td>-0.218633</td>\n",
       "      <td>-0.073877</td>\n",
       "      <td>0.264747</td>\n",
       "    </tr>\n",
       "    <tr>\n",
       "      <th>4</th>\n",
       "      <td>0.045382</td>\n",
       "      <td>0.838679</td>\n",
       "      <td>-0.630341</td>\n",
       "      <td>-0.873290</td>\n",
       "      <td>0.740107</td>\n",
       "      <td>-0.395750</td>\n",
       "      <td>-0.734382</td>\n",
       "      <td>-0.889389</td>\n",
       "      <td>0.385319</td>\n",
       "      <td>0.695708</td>\n",
       "      <td>1.927749</td>\n",
       "      <td>-0.218633</td>\n",
       "      <td>1.179678</td>\n",
       "      <td>0.264747</td>\n",
       "    </tr>\n",
       "  </tbody>\n",
       "</table>\n",
       "</div>"
      ]
     },
     "metadata": {},
     "execution_count": 20
    }
   ],
   "metadata": {}
  },
  {
   "cell_type": "code",
   "execution_count": 21,
   "source": [
    "# test Logistic Regression with all features\n",
    "lr = LogisticRegression()\n",
    "\n",
    "lr.fit(X_tr, y_tr)\n",
    "y_pred = lr.predict(X_te)\n",
    "\n",
    "# check model accuracy\n",
    "accuracy = metrics.accuracy_score(y_te, y_pred)\n",
    "rounded_accuracy = round(accuracy, 4)\n",
    "\n",
    "print(\"Accuracy (All Features):\", rounded_accuracy)"
   ],
   "outputs": [
    {
     "output_type": "stream",
     "name": "stdout",
     "text": [
      "Accuracy (All Features): 0.8142\n"
     ]
    }
   ],
   "metadata": {}
  },
  {
   "cell_type": "markdown",
   "source": [
    "PCA"
   ],
   "metadata": {}
  },
  {
   "cell_type": "code",
   "execution_count": 22,
   "source": [
    "# create matrix of all variables\n",
    "x_mx = X_tr"
   ],
   "outputs": [],
   "metadata": {}
  },
  {
   "cell_type": "code",
   "execution_count": null,
   "source": [
    "# center and scale (normalize the data)\n",
    "# StandardScaler() does the same thing so we don't need to do this\n",
    "# We WOULD do this if we hadn't used StandardScaler() yet\n",
    "# x_mx = (x_mx - x_mx.mean())/x_mx.std()\n",
    "# ss = StandardScaler()\n",
    "# X = pd.DataFrame(ss.fit_transform(X), columns=X.columns)"
   ],
   "outputs": [],
   "metadata": {}
  },
  {
   "cell_type": "code",
   "execution_count": 23,
   "source": [
    "# compute principal components\n",
    "pca = PCA(n_components = x_mx.shape[1])\n",
    "pca.fit(x_mx)"
   ],
   "outputs": [
    {
     "output_type": "execute_result",
     "data": {
      "text/plain": [
       "PCA(n_components=14)"
      ],
      "text/html": [
       "<style>#sk-container-id-1 {color: black;background-color: white;}#sk-container-id-1 pre{padding: 0;}#sk-container-id-1 div.sk-toggleable {background-color: white;}#sk-container-id-1 label.sk-toggleable__label {cursor: pointer;display: block;width: 100%;margin-bottom: 0;padding: 0.3em;box-sizing: border-box;text-align: center;}#sk-container-id-1 label.sk-toggleable__label-arrow:before {content: \"▸\";float: left;margin-right: 0.25em;color: #696969;}#sk-container-id-1 label.sk-toggleable__label-arrow:hover:before {color: black;}#sk-container-id-1 div.sk-estimator:hover label.sk-toggleable__label-arrow:before {color: black;}#sk-container-id-1 div.sk-toggleable__content {max-height: 0;max-width: 0;overflow: hidden;text-align: left;background-color: #f0f8ff;}#sk-container-id-1 div.sk-toggleable__content pre {margin: 0.2em;color: black;border-radius: 0.25em;background-color: #f0f8ff;}#sk-container-id-1 input.sk-toggleable__control:checked~div.sk-toggleable__content {max-height: 200px;max-width: 100%;overflow: auto;}#sk-container-id-1 input.sk-toggleable__control:checked~label.sk-toggleable__label-arrow:before {content: \"▾\";}#sk-container-id-1 div.sk-estimator input.sk-toggleable__control:checked~label.sk-toggleable__label {background-color: #d4ebff;}#sk-container-id-1 div.sk-label input.sk-toggleable__control:checked~label.sk-toggleable__label {background-color: #d4ebff;}#sk-container-id-1 input.sk-hidden--visually {border: 0;clip: rect(1px 1px 1px 1px);clip: rect(1px, 1px, 1px, 1px);height: 1px;margin: -1px;overflow: hidden;padding: 0;position: absolute;width: 1px;}#sk-container-id-1 div.sk-estimator {font-family: monospace;background-color: #f0f8ff;border: 1px dotted black;border-radius: 0.25em;box-sizing: border-box;margin-bottom: 0.5em;}#sk-container-id-1 div.sk-estimator:hover {background-color: #d4ebff;}#sk-container-id-1 div.sk-parallel-item::after {content: \"\";width: 100%;border-bottom: 1px solid gray;flex-grow: 1;}#sk-container-id-1 div.sk-label:hover label.sk-toggleable__label {background-color: #d4ebff;}#sk-container-id-1 div.sk-serial::before {content: \"\";position: absolute;border-left: 1px solid gray;box-sizing: border-box;top: 0;bottom: 0;left: 50%;z-index: 0;}#sk-container-id-1 div.sk-serial {display: flex;flex-direction: column;align-items: center;background-color: white;padding-right: 0.2em;padding-left: 0.2em;position: relative;}#sk-container-id-1 div.sk-item {position: relative;z-index: 1;}#sk-container-id-1 div.sk-parallel {display: flex;align-items: stretch;justify-content: center;background-color: white;position: relative;}#sk-container-id-1 div.sk-item::before, #sk-container-id-1 div.sk-parallel-item::before {content: \"\";position: absolute;border-left: 1px solid gray;box-sizing: border-box;top: 0;bottom: 0;left: 50%;z-index: -1;}#sk-container-id-1 div.sk-parallel-item {display: flex;flex-direction: column;z-index: 1;position: relative;background-color: white;}#sk-container-id-1 div.sk-parallel-item:first-child::after {align-self: flex-end;width: 50%;}#sk-container-id-1 div.sk-parallel-item:last-child::after {align-self: flex-start;width: 50%;}#sk-container-id-1 div.sk-parallel-item:only-child::after {width: 0;}#sk-container-id-1 div.sk-dashed-wrapped {border: 1px dashed gray;margin: 0 0.4em 0.5em 0.4em;box-sizing: border-box;padding-bottom: 0.4em;background-color: white;}#sk-container-id-1 div.sk-label label {font-family: monospace;font-weight: bold;display: inline-block;line-height: 1.2em;}#sk-container-id-1 div.sk-label-container {text-align: center;}#sk-container-id-1 div.sk-container {/* jupyter's `normalize.less` sets `[hidden] { display: none; }` but bootstrap.min.css set `[hidden] { display: none !important; }` so we also need the `!important` here to be able to override the default hidden behavior on the sphinx rendered scikit-learn.org. See: https://github.com/scikit-learn/scikit-learn/issues/21755 */display: inline-block !important;position: relative;}#sk-container-id-1 div.sk-text-repr-fallback {display: none;}</style><div id=\"sk-container-id-1\" class=\"sk-top-container\"><div class=\"sk-text-repr-fallback\"><pre>PCA(n_components=14)</pre><b>In a Jupyter environment, please rerun this cell to show the HTML representation or trust the notebook. <br />On GitHub, the HTML representation is unable to render, please try loading this page with nbviewer.org.</b></div><div class=\"sk-container\" hidden><div class=\"sk-item\"><div class=\"sk-estimator sk-toggleable\"><input class=\"sk-toggleable__control sk-hidden--visually\" id=\"sk-estimator-id-1\" type=\"checkbox\" checked><label for=\"sk-estimator-id-1\" class=\"sk-toggleable__label sk-toggleable__label-arrow\">PCA</label><div class=\"sk-toggleable__content\"><pre>PCA(n_components=14)</pre></div></div></div></div></div>"
      ]
     },
     "metadata": {},
     "execution_count": 23
    }
   ],
   "metadata": {}
  },
  {
   "cell_type": "code",
   "execution_count": 24,
   "source": [
    "# store proportion of variance explained as a dataframe\n",
    "pca_var_explained = pd.DataFrame({'Proportion of variance explained': pca.explained_variance_ratio_})\n",
    "\n",
    "# add component number as a new column\n",
    "pca_var_explained['Component'] = np.arange(1, 15)\n",
    "\n",
    "# print\n",
    "pca_var_explained.head()"
   ],
   "outputs": [
    {
     "output_type": "execute_result",
     "data": {
      "text/plain": [
       "   Proportion of variance explained  Component\n",
       "0                          0.148696          1\n",
       "1                          0.100759          2\n",
       "2                          0.082186          3\n",
       "3                          0.079604          4\n",
       "4                          0.073702          5"
      ],
      "text/html": [
       "<div>\n",
       "<style scoped>\n",
       "    .dataframe tbody tr th:only-of-type {\n",
       "        vertical-align: middle;\n",
       "    }\n",
       "\n",
       "    .dataframe tbody tr th {\n",
       "        vertical-align: top;\n",
       "    }\n",
       "\n",
       "    .dataframe thead th {\n",
       "        text-align: right;\n",
       "    }\n",
       "</style>\n",
       "<table border=\"1\" class=\"dataframe\">\n",
       "  <thead>\n",
       "    <tr style=\"text-align: right;\">\n",
       "      <th></th>\n",
       "      <th>Proportion of variance explained</th>\n",
       "      <th>Component</th>\n",
       "    </tr>\n",
       "  </thead>\n",
       "  <tbody>\n",
       "    <tr>\n",
       "      <th>0</th>\n",
       "      <td>0.148696</td>\n",
       "      <td>1</td>\n",
       "    </tr>\n",
       "    <tr>\n",
       "      <th>1</th>\n",
       "      <td>0.100759</td>\n",
       "      <td>2</td>\n",
       "    </tr>\n",
       "    <tr>\n",
       "      <th>2</th>\n",
       "      <td>0.082186</td>\n",
       "      <td>3</td>\n",
       "    </tr>\n",
       "    <tr>\n",
       "      <th>3</th>\n",
       "      <td>0.079604</td>\n",
       "      <td>4</td>\n",
       "    </tr>\n",
       "    <tr>\n",
       "      <th>4</th>\n",
       "      <td>0.073702</td>\n",
       "      <td>5</td>\n",
       "    </tr>\n",
       "  </tbody>\n",
       "</table>\n",
       "</div>"
      ]
     },
     "metadata": {},
     "execution_count": 24
    }
   ],
   "metadata": {}
  },
  {
   "cell_type": "code",
   "execution_count": 25,
   "source": [
    "# add cumulative variance explained as a new column\n",
    "pca_var_explained['Cumulative variance explained'] = pca_var_explained.iloc[:, 0].cumsum(axis = 0)\n",
    "\n",
    "# print\n",
    "pca_var_explained"
   ],
   "outputs": [
    {
     "output_type": "execute_result",
     "data": {
      "text/plain": [
       "    Proportion of variance explained  Component  Cumulative variance explained\n",
       "0                           0.148696          1                       0.148696\n",
       "1                           0.100759          2                       0.249454\n",
       "2                           0.082186          3                       0.331640\n",
       "3                           0.079604          4                       0.411245\n",
       "4                           0.073702          5                       0.484946\n",
       "5                           0.072478          6                       0.557425\n",
       "6                           0.069599          7                       0.627024\n",
       "7                           0.067797          8                       0.694822\n",
       "8                           0.065243          9                       0.760064\n",
       "9                           0.060154         10                       0.820219\n",
       "10                          0.059296         11                       0.879514\n",
       "11                          0.049173         12                       0.928687\n",
       "12                          0.043640         13                       0.972327\n",
       "13                          0.027673         14                       1.000000"
      ],
      "text/html": [
       "<div>\n",
       "<style scoped>\n",
       "    .dataframe tbody tr th:only-of-type {\n",
       "        vertical-align: middle;\n",
       "    }\n",
       "\n",
       "    .dataframe tbody tr th {\n",
       "        vertical-align: top;\n",
       "    }\n",
       "\n",
       "    .dataframe thead th {\n",
       "        text-align: right;\n",
       "    }\n",
       "</style>\n",
       "<table border=\"1\" class=\"dataframe\">\n",
       "  <thead>\n",
       "    <tr style=\"text-align: right;\">\n",
       "      <th></th>\n",
       "      <th>Proportion of variance explained</th>\n",
       "      <th>Component</th>\n",
       "      <th>Cumulative variance explained</th>\n",
       "    </tr>\n",
       "  </thead>\n",
       "  <tbody>\n",
       "    <tr>\n",
       "      <th>0</th>\n",
       "      <td>0.148696</td>\n",
       "      <td>1</td>\n",
       "      <td>0.148696</td>\n",
       "    </tr>\n",
       "    <tr>\n",
       "      <th>1</th>\n",
       "      <td>0.100759</td>\n",
       "      <td>2</td>\n",
       "      <td>0.249454</td>\n",
       "    </tr>\n",
       "    <tr>\n",
       "      <th>2</th>\n",
       "      <td>0.082186</td>\n",
       "      <td>3</td>\n",
       "      <td>0.331640</td>\n",
       "    </tr>\n",
       "    <tr>\n",
       "      <th>3</th>\n",
       "      <td>0.079604</td>\n",
       "      <td>4</td>\n",
       "      <td>0.411245</td>\n",
       "    </tr>\n",
       "    <tr>\n",
       "      <th>4</th>\n",
       "      <td>0.073702</td>\n",
       "      <td>5</td>\n",
       "      <td>0.484946</td>\n",
       "    </tr>\n",
       "    <tr>\n",
       "      <th>5</th>\n",
       "      <td>0.072478</td>\n",
       "      <td>6</td>\n",
       "      <td>0.557425</td>\n",
       "    </tr>\n",
       "    <tr>\n",
       "      <th>6</th>\n",
       "      <td>0.069599</td>\n",
       "      <td>7</td>\n",
       "      <td>0.627024</td>\n",
       "    </tr>\n",
       "    <tr>\n",
       "      <th>7</th>\n",
       "      <td>0.067797</td>\n",
       "      <td>8</td>\n",
       "      <td>0.694822</td>\n",
       "    </tr>\n",
       "    <tr>\n",
       "      <th>8</th>\n",
       "      <td>0.065243</td>\n",
       "      <td>9</td>\n",
       "      <td>0.760064</td>\n",
       "    </tr>\n",
       "    <tr>\n",
       "      <th>9</th>\n",
       "      <td>0.060154</td>\n",
       "      <td>10</td>\n",
       "      <td>0.820219</td>\n",
       "    </tr>\n",
       "    <tr>\n",
       "      <th>10</th>\n",
       "      <td>0.059296</td>\n",
       "      <td>11</td>\n",
       "      <td>0.879514</td>\n",
       "    </tr>\n",
       "    <tr>\n",
       "      <th>11</th>\n",
       "      <td>0.049173</td>\n",
       "      <td>12</td>\n",
       "      <td>0.928687</td>\n",
       "    </tr>\n",
       "    <tr>\n",
       "      <th>12</th>\n",
       "      <td>0.043640</td>\n",
       "      <td>13</td>\n",
       "      <td>0.972327</td>\n",
       "    </tr>\n",
       "    <tr>\n",
       "      <th>13</th>\n",
       "      <td>0.027673</td>\n",
       "      <td>14</td>\n",
       "      <td>1.000000</td>\n",
       "    </tr>\n",
       "  </tbody>\n",
       "</table>\n",
       "</div>"
      ]
     },
     "metadata": {},
     "execution_count": 25
    }
   ],
   "metadata": {}
  },
  {
   "cell_type": "code",
   "execution_count": 26,
   "source": [
    "# encode component axis only as base layer\n",
    "base = alt.Chart(pca_var_explained).encode(\n",
    "    x= alt.X('Component', scale = alt.Scale(domain=[1, 14]), axis=alt.Axis(values=[1,2,3,4,5,6,7,8,10,11,12,13,14]))\n",
    ")\n",
    "\n",
    "# make a base layer for the proportion of variance explained\n",
    "prop_var_base = base.encode(\n",
    "    y=alt.Y('Proportion of variance explained', axis=alt.Axis(titleColor='#57A44C'))\n",
    ")\n",
    "\n",
    "# make a base layer for the cumulative variance explained\n",
    "cum_var_base = base.encode(\n",
    "    y=alt.Y('Cumulative variance explained', axis=alt.Axis(titleColor='#5276A7'))\n",
    ")\n",
    "\n",
    "# add points and lines to each base layer\n",
    "prop_var = prop_var_base.mark_line(\n",
    "    stroke='#57A44C') + prop_var_base.mark_point(color='#57A44C')\n",
    "\n",
    "cum_var = cum_var_base.mark_line() + cum_var_base.mark_point()\n",
    "\n",
    "# layer the layers\n",
    "var_explained_plot = alt.layer(\n",
    "    prop_var, cum_var).resolve_scale(y='independent')\n",
    "\n",
    "# display\n",
    "var_explained_plot.properties(height = 200, width = 400)"
   ],
   "outputs": [
    {
     "output_type": "execute_result",
     "data": {
      "text/plain": [
       "alt.LayerChart(...)"
      ],
      "text/html": [
       "\n",
       "<div id=\"altair-viz-3e9a1cf3cef84084b4e01406f9d4cf5f\"></div>\n",
       "<script type=\"text/javascript\">\n",
       "  var VEGA_DEBUG = (typeof VEGA_DEBUG == \"undefined\") ? {} : VEGA_DEBUG;\n",
       "  (function(spec, embedOpt){\n",
       "    let outputDiv = document.currentScript.previousElementSibling;\n",
       "    if (outputDiv.id !== \"altair-viz-3e9a1cf3cef84084b4e01406f9d4cf5f\") {\n",
       "      outputDiv = document.getElementById(\"altair-viz-3e9a1cf3cef84084b4e01406f9d4cf5f\");\n",
       "    }\n",
       "    const paths = {\n",
       "      \"vega\": \"https://cdn.jsdelivr.net/npm//vega@5?noext\",\n",
       "      \"vega-lib\": \"https://cdn.jsdelivr.net/npm//vega-lib?noext\",\n",
       "      \"vega-lite\": \"https://cdn.jsdelivr.net/npm//vega-lite@4.17.0?noext\",\n",
       "      \"vega-embed\": \"https://cdn.jsdelivr.net/npm//vega-embed@6?noext\",\n",
       "    };\n",
       "\n",
       "    function maybeLoadScript(lib, version) {\n",
       "      var key = `${lib.replace(\"-\", \"\")}_version`;\n",
       "      return (VEGA_DEBUG[key] == version) ?\n",
       "        Promise.resolve(paths[lib]) :\n",
       "        new Promise(function(resolve, reject) {\n",
       "          var s = document.createElement('script');\n",
       "          document.getElementsByTagName(\"head\")[0].appendChild(s);\n",
       "          s.async = true;\n",
       "          s.onload = () => {\n",
       "            VEGA_DEBUG[key] = version;\n",
       "            return resolve(paths[lib]);\n",
       "          };\n",
       "          s.onerror = () => reject(`Error loading script: ${paths[lib]}`);\n",
       "          s.src = paths[lib];\n",
       "        });\n",
       "    }\n",
       "\n",
       "    function showError(err) {\n",
       "      outputDiv.innerHTML = `<div class=\"error\" style=\"color:red;\">${err}</div>`;\n",
       "      throw err;\n",
       "    }\n",
       "\n",
       "    function displayChart(vegaEmbed) {\n",
       "      vegaEmbed(outputDiv, spec, embedOpt)\n",
       "        .catch(err => showError(`Javascript Error: ${err.message}<br>This usually means there's a typo in your chart specification. See the javascript console for the full traceback.`));\n",
       "    }\n",
       "\n",
       "    if(typeof define === \"function\" && define.amd) {\n",
       "      requirejs.config({paths});\n",
       "      require([\"vega-embed\"], displayChart, err => showError(`Error loading script: ${err.message}`));\n",
       "    } else {\n",
       "      maybeLoadScript(\"vega\", \"5\")\n",
       "        .then(() => maybeLoadScript(\"vega-lite\", \"4.17.0\"))\n",
       "        .then(() => maybeLoadScript(\"vega-embed\", \"6\"))\n",
       "        .catch(showError)\n",
       "        .then(() => displayChart(vegaEmbed));\n",
       "    }\n",
       "  })({\"config\": {\"view\": {\"continuousWidth\": 400, \"continuousHeight\": 300}}, \"layer\": [{\"layer\": [{\"mark\": {\"type\": \"line\", \"stroke\": \"#57A44C\"}, \"encoding\": {\"x\": {\"axis\": {\"values\": [1, 2, 3, 4, 5, 6, 7, 8, 10, 11, 12, 13, 14]}, \"field\": \"Component\", \"scale\": {\"domain\": [1, 14]}, \"type\": \"quantitative\"}, \"y\": {\"axis\": {\"titleColor\": \"#57A44C\"}, \"field\": \"Proportion of variance explained\", \"type\": \"quantitative\"}}}, {\"mark\": {\"type\": \"point\", \"color\": \"#57A44C\"}, \"encoding\": {\"x\": {\"axis\": {\"values\": [1, 2, 3, 4, 5, 6, 7, 8, 10, 11, 12, 13, 14]}, \"field\": \"Component\", \"scale\": {\"domain\": [1, 14]}, \"type\": \"quantitative\"}, \"y\": {\"axis\": {\"titleColor\": \"#57A44C\"}, \"field\": \"Proportion of variance explained\", \"type\": \"quantitative\"}}}]}, {\"layer\": [{\"mark\": \"line\", \"encoding\": {\"x\": {\"axis\": {\"values\": [1, 2, 3, 4, 5, 6, 7, 8, 10, 11, 12, 13, 14]}, \"field\": \"Component\", \"scale\": {\"domain\": [1, 14]}, \"type\": \"quantitative\"}, \"y\": {\"axis\": {\"titleColor\": \"#5276A7\"}, \"field\": \"Cumulative variance explained\", \"type\": \"quantitative\"}}}, {\"mark\": \"point\", \"encoding\": {\"x\": {\"axis\": {\"values\": [1, 2, 3, 4, 5, 6, 7, 8, 10, 11, 12, 13, 14]}, \"field\": \"Component\", \"scale\": {\"domain\": [1, 14]}, \"type\": \"quantitative\"}, \"y\": {\"axis\": {\"titleColor\": \"#5276A7\"}, \"field\": \"Cumulative variance explained\", \"type\": \"quantitative\"}}}]}], \"data\": {\"name\": \"data-55e58717743f710b62ac7de377424d70\"}, \"height\": 200, \"resolve\": {\"scale\": {\"y\": \"independent\"}}, \"width\": 400, \"$schema\": \"https://vega.github.io/schema/vega-lite/v4.17.0.json\", \"datasets\": {\"data-55e58717743f710b62ac7de377424d70\": [{\"Proportion of variance explained\": 0.14869566700503212, \"Component\": 1, \"Cumulative variance explained\": 0.14869566700503212}, {\"Proportion of variance explained\": 0.10075871613153237, \"Component\": 2, \"Cumulative variance explained\": 0.24945438313656448}, {\"Proportion of variance explained\": 0.08218590303160929, \"Component\": 3, \"Cumulative variance explained\": 0.33164028616817376}, {\"Proportion of variance explained\": 0.07960423824506987, \"Component\": 4, \"Cumulative variance explained\": 0.41124452441324366}, {\"Proportion of variance explained\": 0.07370185390014448, \"Component\": 5, \"Cumulative variance explained\": 0.48494637831338816}, {\"Proportion of variance explained\": 0.07247838645770845, \"Component\": 6, \"Cumulative variance explained\": 0.5574247647710966}, {\"Proportion of variance explained\": 0.0695993873691178, \"Component\": 7, \"Cumulative variance explained\": 0.6270241521402145}, {\"Proportion of variance explained\": 0.0677973554465564, \"Component\": 8, \"Cumulative variance explained\": 0.6948215075867709}, {\"Proportion of variance explained\": 0.06524287650183316, \"Component\": 9, \"Cumulative variance explained\": 0.760064384088604}, {\"Proportion of variance explained\": 0.0601542186127174, \"Component\": 10, \"Cumulative variance explained\": 0.8202186027013214}, {\"Proportion of variance explained\": 0.05929550375792847, \"Component\": 11, \"Cumulative variance explained\": 0.8795141064592499}, {\"Proportion of variance explained\": 0.049172989084424606, \"Component\": 12, \"Cumulative variance explained\": 0.9286870955436745}, {\"Proportion of variance explained\": 0.043640398470353205, \"Component\": 13, \"Cumulative variance explained\": 0.9723274940140276}, {\"Proportion of variance explained\": 0.027672505985972273, \"Component\": 14, \"Cumulative variance explained\": 0.9999999999999999}]}}, {\"mode\": \"vega-lite\"});\n",
       "</script>"
      ]
     },
     "metadata": {},
     "execution_count": 26
    }
   ],
   "metadata": {}
  },
  {
   "cell_type": "code",
   "execution_count": 27,
   "source": [
    "# store the loadings as a data frame with appropriate names\n",
    "loading_df = pd.DataFrame(pca.components_).transpose().rename(\n",
    "    columns = {0: 'PC1', 1: 'PC2', 2: 'PC3', 3: 'PC4'} # add entries for each selected component\n",
    "    ).loc[:, ['PC1', 'PC2', 'PC3', 'PC4']] # slice just components of interest\n",
    "\n",
    "# add a column with the variable names\n",
    "loading_df['Variable'] = x_mx.columns.values\n",
    "\n",
    "# print\n",
    "# this shows the loading values of each of our variables\n",
    "loading_df"
   ],
   "outputs": [
    {
     "output_type": "execute_result",
     "data": {
      "text/plain": [
       "         PC1       PC2       PC3       PC4        Variable\n",
       "0   0.316239  0.038751 -0.557908  0.094998             age\n",
       "1   0.137098 -0.036061 -0.088783 -0.020849       workclass\n",
       "2  -0.056135  0.165404  0.353635  0.226269          fnlwgt\n",
       "3   0.109530 -0.597718  0.088932  0.112482       education\n",
       "4   0.214873 -0.598210  0.177303  0.167165   education.num\n",
       "5  -0.325872 -0.001940  0.470447 -0.045302  marital.status\n",
       "6   0.069158 -0.006265  0.374719  0.134365      occupation\n",
       "7  -0.531507 -0.223402 -0.175295  0.032599    relationship\n",
       "8   0.168621 -0.038543  0.095233 -0.620893            race\n",
       "9   0.463801  0.309862  0.323979 -0.042460             sex\n",
       "10  0.142680 -0.157252 -0.009057  0.296036    capital.gain\n",
       "11  0.115823 -0.049597 -0.033110 -0.044141    capital.loss\n",
       "12  0.380353 -0.035032  0.079904  0.154129  hours.per.week\n",
       "13  0.066473 -0.280805  0.048933 -0.613942  native.country"
      ],
      "text/html": [
       "<div>\n",
       "<style scoped>\n",
       "    .dataframe tbody tr th:only-of-type {\n",
       "        vertical-align: middle;\n",
       "    }\n",
       "\n",
       "    .dataframe tbody tr th {\n",
       "        vertical-align: top;\n",
       "    }\n",
       "\n",
       "    .dataframe thead th {\n",
       "        text-align: right;\n",
       "    }\n",
       "</style>\n",
       "<table border=\"1\" class=\"dataframe\">\n",
       "  <thead>\n",
       "    <tr style=\"text-align: right;\">\n",
       "      <th></th>\n",
       "      <th>PC1</th>\n",
       "      <th>PC2</th>\n",
       "      <th>PC3</th>\n",
       "      <th>PC4</th>\n",
       "      <th>Variable</th>\n",
       "    </tr>\n",
       "  </thead>\n",
       "  <tbody>\n",
       "    <tr>\n",
       "      <th>0</th>\n",
       "      <td>0.316239</td>\n",
       "      <td>0.038751</td>\n",
       "      <td>-0.557908</td>\n",
       "      <td>0.094998</td>\n",
       "      <td>age</td>\n",
       "    </tr>\n",
       "    <tr>\n",
       "      <th>1</th>\n",
       "      <td>0.137098</td>\n",
       "      <td>-0.036061</td>\n",
       "      <td>-0.088783</td>\n",
       "      <td>-0.020849</td>\n",
       "      <td>workclass</td>\n",
       "    </tr>\n",
       "    <tr>\n",
       "      <th>2</th>\n",
       "      <td>-0.056135</td>\n",
       "      <td>0.165404</td>\n",
       "      <td>0.353635</td>\n",
       "      <td>0.226269</td>\n",
       "      <td>fnlwgt</td>\n",
       "    </tr>\n",
       "    <tr>\n",
       "      <th>3</th>\n",
       "      <td>0.109530</td>\n",
       "      <td>-0.597718</td>\n",
       "      <td>0.088932</td>\n",
       "      <td>0.112482</td>\n",
       "      <td>education</td>\n",
       "    </tr>\n",
       "    <tr>\n",
       "      <th>4</th>\n",
       "      <td>0.214873</td>\n",
       "      <td>-0.598210</td>\n",
       "      <td>0.177303</td>\n",
       "      <td>0.167165</td>\n",
       "      <td>education.num</td>\n",
       "    </tr>\n",
       "    <tr>\n",
       "      <th>5</th>\n",
       "      <td>-0.325872</td>\n",
       "      <td>-0.001940</td>\n",
       "      <td>0.470447</td>\n",
       "      <td>-0.045302</td>\n",
       "      <td>marital.status</td>\n",
       "    </tr>\n",
       "    <tr>\n",
       "      <th>6</th>\n",
       "      <td>0.069158</td>\n",
       "      <td>-0.006265</td>\n",
       "      <td>0.374719</td>\n",
       "      <td>0.134365</td>\n",
       "      <td>occupation</td>\n",
       "    </tr>\n",
       "    <tr>\n",
       "      <th>7</th>\n",
       "      <td>-0.531507</td>\n",
       "      <td>-0.223402</td>\n",
       "      <td>-0.175295</td>\n",
       "      <td>0.032599</td>\n",
       "      <td>relationship</td>\n",
       "    </tr>\n",
       "    <tr>\n",
       "      <th>8</th>\n",
       "      <td>0.168621</td>\n",
       "      <td>-0.038543</td>\n",
       "      <td>0.095233</td>\n",
       "      <td>-0.620893</td>\n",
       "      <td>race</td>\n",
       "    </tr>\n",
       "    <tr>\n",
       "      <th>9</th>\n",
       "      <td>0.463801</td>\n",
       "      <td>0.309862</td>\n",
       "      <td>0.323979</td>\n",
       "      <td>-0.042460</td>\n",
       "      <td>sex</td>\n",
       "    </tr>\n",
       "    <tr>\n",
       "      <th>10</th>\n",
       "      <td>0.142680</td>\n",
       "      <td>-0.157252</td>\n",
       "      <td>-0.009057</td>\n",
       "      <td>0.296036</td>\n",
       "      <td>capital.gain</td>\n",
       "    </tr>\n",
       "    <tr>\n",
       "      <th>11</th>\n",
       "      <td>0.115823</td>\n",
       "      <td>-0.049597</td>\n",
       "      <td>-0.033110</td>\n",
       "      <td>-0.044141</td>\n",
       "      <td>capital.loss</td>\n",
       "    </tr>\n",
       "    <tr>\n",
       "      <th>12</th>\n",
       "      <td>0.380353</td>\n",
       "      <td>-0.035032</td>\n",
       "      <td>0.079904</td>\n",
       "      <td>0.154129</td>\n",
       "      <td>hours.per.week</td>\n",
       "    </tr>\n",
       "    <tr>\n",
       "      <th>13</th>\n",
       "      <td>0.066473</td>\n",
       "      <td>-0.280805</td>\n",
       "      <td>0.048933</td>\n",
       "      <td>-0.613942</td>\n",
       "      <td>native.country</td>\n",
       "    </tr>\n",
       "  </tbody>\n",
       "</table>\n",
       "</div>"
      ]
     },
     "metadata": {},
     "execution_count": 27
    }
   ],
   "metadata": {}
  },
  {
   "cell_type": "code",
   "execution_count": 28,
   "source": [
    "# melt from wide to long\n",
    "loading_plot_df = loading_df.melt(\n",
    "    id_vars = 'Variable',\n",
    "    var_name = 'Principal Component',\n",
    "    value_name = 'Loading'\n",
    ")\n",
    "\n",
    "# add a column of zeros to encode for x = 0 line to plot\n",
    "loading_plot_df['zero'] = np.repeat(0, len(loading_plot_df))\n",
    "\n",
    "# create base layer\n",
    "base = alt.Chart(loading_plot_df)\n",
    "\n",
    "# create lines + points for loadings\n",
    "loadings = base.mark_line(point = True).encode(\n",
    "    y = alt.X('Variable', title = ''),\n",
    "    x = 'Loading',\n",
    "    color = 'Principal Component'\n",
    ")\n",
    "\n",
    "# create line at zero\n",
    "rule = base.mark_rule().encode(x = alt.X('zero', title = 'Loading'), size = alt.value(0.05))\n",
    "\n",
    "# layer\n",
    "loading_plot = (loadings + rule).properties(width = 120)\n",
    "\n",
    "# show\n",
    "loading_plot.facet(column = 'Principal Component')"
   ],
   "outputs": [
    {
     "output_type": "execute_result",
     "data": {
      "text/plain": [
       "alt.FacetChart(...)"
      ],
      "text/html": [
       "\n",
       "<div id=\"altair-viz-58900e7ad0bc4192aed52a59d91cea34\"></div>\n",
       "<script type=\"text/javascript\">\n",
       "  var VEGA_DEBUG = (typeof VEGA_DEBUG == \"undefined\") ? {} : VEGA_DEBUG;\n",
       "  (function(spec, embedOpt){\n",
       "    let outputDiv = document.currentScript.previousElementSibling;\n",
       "    if (outputDiv.id !== \"altair-viz-58900e7ad0bc4192aed52a59d91cea34\") {\n",
       "      outputDiv = document.getElementById(\"altair-viz-58900e7ad0bc4192aed52a59d91cea34\");\n",
       "    }\n",
       "    const paths = {\n",
       "      \"vega\": \"https://cdn.jsdelivr.net/npm//vega@5?noext\",\n",
       "      \"vega-lib\": \"https://cdn.jsdelivr.net/npm//vega-lib?noext\",\n",
       "      \"vega-lite\": \"https://cdn.jsdelivr.net/npm//vega-lite@4.17.0?noext\",\n",
       "      \"vega-embed\": \"https://cdn.jsdelivr.net/npm//vega-embed@6?noext\",\n",
       "    };\n",
       "\n",
       "    function maybeLoadScript(lib, version) {\n",
       "      var key = `${lib.replace(\"-\", \"\")}_version`;\n",
       "      return (VEGA_DEBUG[key] == version) ?\n",
       "        Promise.resolve(paths[lib]) :\n",
       "        new Promise(function(resolve, reject) {\n",
       "          var s = document.createElement('script');\n",
       "          document.getElementsByTagName(\"head\")[0].appendChild(s);\n",
       "          s.async = true;\n",
       "          s.onload = () => {\n",
       "            VEGA_DEBUG[key] = version;\n",
       "            return resolve(paths[lib]);\n",
       "          };\n",
       "          s.onerror = () => reject(`Error loading script: ${paths[lib]}`);\n",
       "          s.src = paths[lib];\n",
       "        });\n",
       "    }\n",
       "\n",
       "    function showError(err) {\n",
       "      outputDiv.innerHTML = `<div class=\"error\" style=\"color:red;\">${err}</div>`;\n",
       "      throw err;\n",
       "    }\n",
       "\n",
       "    function displayChart(vegaEmbed) {\n",
       "      vegaEmbed(outputDiv, spec, embedOpt)\n",
       "        .catch(err => showError(`Javascript Error: ${err.message}<br>This usually means there's a typo in your chart specification. See the javascript console for the full traceback.`));\n",
       "    }\n",
       "\n",
       "    if(typeof define === \"function\" && define.amd) {\n",
       "      requirejs.config({paths});\n",
       "      require([\"vega-embed\"], displayChart, err => showError(`Error loading script: ${err.message}`));\n",
       "    } else {\n",
       "      maybeLoadScript(\"vega\", \"5\")\n",
       "        .then(() => maybeLoadScript(\"vega-lite\", \"4.17.0\"))\n",
       "        .then(() => maybeLoadScript(\"vega-embed\", \"6\"))\n",
       "        .catch(showError)\n",
       "        .then(() => displayChart(vegaEmbed));\n",
       "    }\n",
       "  })({\"config\": {\"view\": {\"continuousWidth\": 400, \"continuousHeight\": 300}}, \"data\": {\"name\": \"data-b9543d04b680091a8ff6a3ab1684d18a\"}, \"facet\": {\"column\": {\"field\": \"Principal Component\", \"type\": \"nominal\"}}, \"spec\": {\"layer\": [{\"mark\": {\"type\": \"line\", \"point\": true}, \"encoding\": {\"color\": {\"field\": \"Principal Component\", \"type\": \"nominal\"}, \"x\": {\"field\": \"Loading\", \"type\": \"quantitative\"}, \"y\": {\"field\": \"Variable\", \"title\": \"\", \"type\": \"nominal\"}}}, {\"mark\": \"rule\", \"encoding\": {\"size\": {\"value\": 0.05}, \"x\": {\"field\": \"zero\", \"title\": \"Loading\", \"type\": \"quantitative\"}}}], \"width\": 120}, \"$schema\": \"https://vega.github.io/schema/vega-lite/v4.17.0.json\", \"datasets\": {\"data-b9543d04b680091a8ff6a3ab1684d18a\": [{\"Variable\": \"age\", \"Principal Component\": \"PC1\", \"Loading\": 0.316238971310779, \"zero\": 0}, {\"Variable\": \"workclass\", \"Principal Component\": \"PC1\", \"Loading\": 0.13709760594320097, \"zero\": 0}, {\"Variable\": \"fnlwgt\", \"Principal Component\": \"PC1\", \"Loading\": -0.056135456103841436, \"zero\": 0}, {\"Variable\": \"education\", \"Principal Component\": \"PC1\", \"Loading\": 0.10953045364665495, \"zero\": 0}, {\"Variable\": \"education.num\", \"Principal Component\": \"PC1\", \"Loading\": 0.21487346552534564, \"zero\": 0}, {\"Variable\": \"marital.status\", \"Principal Component\": \"PC1\", \"Loading\": -0.3258715462199296, \"zero\": 0}, {\"Variable\": \"occupation\", \"Principal Component\": \"PC1\", \"Loading\": 0.06915767789847713, \"zero\": 0}, {\"Variable\": \"relationship\", \"Principal Component\": \"PC1\", \"Loading\": -0.5315070481468207, \"zero\": 0}, {\"Variable\": \"race\", \"Principal Component\": \"PC1\", \"Loading\": 0.16862060039071744, \"zero\": 0}, {\"Variable\": \"sex\", \"Principal Component\": \"PC1\", \"Loading\": 0.4638011787420582, \"zero\": 0}, {\"Variable\": \"capital.gain\", \"Principal Component\": \"PC1\", \"Loading\": 0.1426795868818954, \"zero\": 0}, {\"Variable\": \"capital.loss\", \"Principal Component\": \"PC1\", \"Loading\": 0.11582326000270562, \"zero\": 0}, {\"Variable\": \"hours.per.week\", \"Principal Component\": \"PC1\", \"Loading\": 0.3803526097775065, \"zero\": 0}, {\"Variable\": \"native.country\", \"Principal Component\": \"PC1\", \"Loading\": 0.06647264236185828, \"zero\": 0}, {\"Variable\": \"age\", \"Principal Component\": \"PC2\", \"Loading\": 0.0387510197190614, \"zero\": 0}, {\"Variable\": \"workclass\", \"Principal Component\": \"PC2\", \"Loading\": -0.03606092735498516, \"zero\": 0}, {\"Variable\": \"fnlwgt\", \"Principal Component\": \"PC2\", \"Loading\": 0.16540379277673628, \"zero\": 0}, {\"Variable\": \"education\", \"Principal Component\": \"PC2\", \"Loading\": -0.5977175318793446, \"zero\": 0}, {\"Variable\": \"education.num\", \"Principal Component\": \"PC2\", \"Loading\": -0.5982100165155011, \"zero\": 0}, {\"Variable\": \"marital.status\", \"Principal Component\": \"PC2\", \"Loading\": -0.001939676199770033, \"zero\": 0}, {\"Variable\": \"occupation\", \"Principal Component\": \"PC2\", \"Loading\": -0.006264867783758636, \"zero\": 0}, {\"Variable\": \"relationship\", \"Principal Component\": \"PC2\", \"Loading\": -0.2234019343651279, \"zero\": 0}, {\"Variable\": \"race\", \"Principal Component\": \"PC2\", \"Loading\": -0.038542646400153896, \"zero\": 0}, {\"Variable\": \"sex\", \"Principal Component\": \"PC2\", \"Loading\": 0.30986160027396137, \"zero\": 0}, {\"Variable\": \"capital.gain\", \"Principal Component\": \"PC2\", \"Loading\": -0.15725199115166308, \"zero\": 0}, {\"Variable\": \"capital.loss\", \"Principal Component\": \"PC2\", \"Loading\": -0.049597280623716426, \"zero\": 0}, {\"Variable\": \"hours.per.week\", \"Principal Component\": \"PC2\", \"Loading\": -0.035032096299391226, \"zero\": 0}, {\"Variable\": \"native.country\", \"Principal Component\": \"PC2\", \"Loading\": -0.28080522200463787, \"zero\": 0}, {\"Variable\": \"age\", \"Principal Component\": \"PC3\", \"Loading\": -0.5579082977857938, \"zero\": 0}, {\"Variable\": \"workclass\", \"Principal Component\": \"PC3\", \"Loading\": -0.08878281981225722, \"zero\": 0}, {\"Variable\": \"fnlwgt\", \"Principal Component\": \"PC3\", \"Loading\": 0.3536354704441232, \"zero\": 0}, {\"Variable\": \"education\", \"Principal Component\": \"PC3\", \"Loading\": 0.08893150251337475, \"zero\": 0}, {\"Variable\": \"education.num\", \"Principal Component\": \"PC3\", \"Loading\": 0.17730330152365842, \"zero\": 0}, {\"Variable\": \"marital.status\", \"Principal Component\": \"PC3\", \"Loading\": 0.4704472793274874, \"zero\": 0}, {\"Variable\": \"occupation\", \"Principal Component\": \"PC3\", \"Loading\": 0.3747194213753436, \"zero\": 0}, {\"Variable\": \"relationship\", \"Principal Component\": \"PC3\", \"Loading\": -0.17529480628503832, \"zero\": 0}, {\"Variable\": \"race\", \"Principal Component\": \"PC3\", \"Loading\": 0.09523338775621788, \"zero\": 0}, {\"Variable\": \"sex\", \"Principal Component\": \"PC3\", \"Loading\": 0.3239788288131262, \"zero\": 0}, {\"Variable\": \"capital.gain\", \"Principal Component\": \"PC3\", \"Loading\": -0.009056996952673271, \"zero\": 0}, {\"Variable\": \"capital.loss\", \"Principal Component\": \"PC3\", \"Loading\": -0.033109597828815375, \"zero\": 0}, {\"Variable\": \"hours.per.week\", \"Principal Component\": \"PC3\", \"Loading\": 0.07990442331940606, \"zero\": 0}, {\"Variable\": \"native.country\", \"Principal Component\": \"PC3\", \"Loading\": 0.048932562342158405, \"zero\": 0}, {\"Variable\": \"age\", \"Principal Component\": \"PC4\", \"Loading\": 0.09499844347619198, \"zero\": 0}, {\"Variable\": \"workclass\", \"Principal Component\": \"PC4\", \"Loading\": -0.020848573874927376, \"zero\": 0}, {\"Variable\": \"fnlwgt\", \"Principal Component\": \"PC4\", \"Loading\": 0.22626872699004758, \"zero\": 0}, {\"Variable\": \"education\", \"Principal Component\": \"PC4\", \"Loading\": 0.11248188281209277, \"zero\": 0}, {\"Variable\": \"education.num\", \"Principal Component\": \"PC4\", \"Loading\": 0.1671646999519082, \"zero\": 0}, {\"Variable\": \"marital.status\", \"Principal Component\": \"PC4\", \"Loading\": -0.04530163078771011, \"zero\": 0}, {\"Variable\": \"occupation\", \"Principal Component\": \"PC4\", \"Loading\": 0.13436487963929833, \"zero\": 0}, {\"Variable\": \"relationship\", \"Principal Component\": \"PC4\", \"Loading\": 0.03259933360262872, \"zero\": 0}, {\"Variable\": \"race\", \"Principal Component\": \"PC4\", \"Loading\": -0.6208934339214326, \"zero\": 0}, {\"Variable\": \"sex\", \"Principal Component\": \"PC4\", \"Loading\": -0.04246013271980127, \"zero\": 0}, {\"Variable\": \"capital.gain\", \"Principal Component\": \"PC4\", \"Loading\": 0.29603604302450864, \"zero\": 0}, {\"Variable\": \"capital.loss\", \"Principal Component\": \"PC4\", \"Loading\": -0.04414090922689748, \"zero\": 0}, {\"Variable\": \"hours.per.week\", \"Principal Component\": \"PC4\", \"Loading\": 0.15412886212027946, \"zero\": 0}, {\"Variable\": \"native.country\", \"Principal Component\": \"PC4\", \"Loading\": -0.6139422007837279, \"zero\": 0}]}}, {\"mode\": \"vega-lite\"});\n",
       "</script>"
      ]
     },
     "metadata": {},
     "execution_count": 28
    }
   ],
   "metadata": {}
  },
  {
   "cell_type": "code",
   "execution_count": 29,
   "source": [
    "cat = ['workclass', 'education', 'marital.status', 'occupation', 'relationship', 'race', 'sex', 'native.country']\n",
    "\n",
    "for feature in cat:\n",
    "    enc = LabelEncoder()\n",
    "    X[feature] = enc.fit_transform(X[feature])\n",
    "\n",
    "\n",
    "ss = StandardScaler()\n",
    "X = pd.DataFrame(ss.fit_transform(X), columns=X.columns)"
   ],
   "outputs": [],
   "metadata": {}
  },
  {
   "cell_type": "code",
   "execution_count": 30,
   "source": [
    "# reduce data to 4 dimensions\n",
    "pca = PCA(n_components=4)\n",
    "pcs = pca.fit_transform(X)\n",
    "\n",
    "# create dataframe\n",
    "df_pca = pd.DataFrame(data=pcs, columns=['PC1', 'PC2', 'PC3', 'PC4'])\n",
    "\n",
    "df_pca.head()"
   ],
   "outputs": [
    {
     "output_type": "execute_result",
     "data": {
      "text/plain": [
       "        PC1       PC2       PC3       PC4\n",
       "0  0.217887 -0.808031 -1.836194 -0.661182\n",
       "1 -0.121355  0.742021 -3.029424 -0.550313\n",
       "2 -0.416403 -1.917875  0.679379 -0.388376\n",
       "3  0.088742 -1.318049 -1.233573 -0.205053\n",
       "4 -0.735640  1.728807 -0.693450 -1.528792"
      ],
      "text/html": [
       "<div>\n",
       "<style scoped>\n",
       "    .dataframe tbody tr th:only-of-type {\n",
       "        vertical-align: middle;\n",
       "    }\n",
       "\n",
       "    .dataframe tbody tr th {\n",
       "        vertical-align: top;\n",
       "    }\n",
       "\n",
       "    .dataframe thead th {\n",
       "        text-align: right;\n",
       "    }\n",
       "</style>\n",
       "<table border=\"1\" class=\"dataframe\">\n",
       "  <thead>\n",
       "    <tr style=\"text-align: right;\">\n",
       "      <th></th>\n",
       "      <th>PC1</th>\n",
       "      <th>PC2</th>\n",
       "      <th>PC3</th>\n",
       "      <th>PC4</th>\n",
       "    </tr>\n",
       "  </thead>\n",
       "  <tbody>\n",
       "    <tr>\n",
       "      <th>0</th>\n",
       "      <td>0.217887</td>\n",
       "      <td>-0.808031</td>\n",
       "      <td>-1.836194</td>\n",
       "      <td>-0.661182</td>\n",
       "    </tr>\n",
       "    <tr>\n",
       "      <th>1</th>\n",
       "      <td>-0.121355</td>\n",
       "      <td>0.742021</td>\n",
       "      <td>-3.029424</td>\n",
       "      <td>-0.550313</td>\n",
       "    </tr>\n",
       "    <tr>\n",
       "      <th>2</th>\n",
       "      <td>-0.416403</td>\n",
       "      <td>-1.917875</td>\n",
       "      <td>0.679379</td>\n",
       "      <td>-0.388376</td>\n",
       "    </tr>\n",
       "    <tr>\n",
       "      <th>3</th>\n",
       "      <td>0.088742</td>\n",
       "      <td>-1.318049</td>\n",
       "      <td>-1.233573</td>\n",
       "      <td>-0.205053</td>\n",
       "    </tr>\n",
       "    <tr>\n",
       "      <th>4</th>\n",
       "      <td>-0.735640</td>\n",
       "      <td>1.728807</td>\n",
       "      <td>-0.693450</td>\n",
       "      <td>-1.528792</td>\n",
       "    </tr>\n",
       "  </tbody>\n",
       "</table>\n",
       "</div>"
      ]
     },
     "metadata": {},
     "execution_count": 30
    }
   ],
   "metadata": {}
  },
  {
   "cell_type": "code",
   "execution_count": 31,
   "source": [
    "df_pca.shape"
   ],
   "outputs": [
    {
     "output_type": "execute_result",
     "data": {
      "text/plain": [
       "(30162, 4)"
      ]
     },
     "metadata": {},
     "execution_count": 31
    }
   ],
   "metadata": {}
  },
  {
   "cell_type": "code",
   "execution_count": 32,
   "source": [
    "# new train/test split\n",
    "X_tr, X_te, y_tr, y_te = train_test_split(df_pca, y, test_size=0.3, random_state=805)\n",
    "\n",
    "# test Logistic Regression with all features\n",
    "lr = LogisticRegression()\n",
    "\n",
    "lr.fit(X_tr, y_tr)\n",
    "y_pred = lr.predict(X_te)\n",
    "\n",
    "# check model accuracy\n",
    "accuracy = metrics.accuracy_score(y_te, y_pred)\n",
    "rounded_accuracy = round(accuracy, 4)\n",
    "\n",
    "print(\"Accuracy (Using PC1-4):\", rounded_accuracy)"
   ],
   "outputs": [
    {
     "output_type": "stream",
     "name": "stdout",
     "text": [
      "Accuracy (Using PC1-4): 0.7999\n"
     ]
    }
   ],
   "metadata": {}
  },
  {
   "cell_type": "code",
   "execution_count": 44,
   "source": [
    "# create new dummy data\n",
    "new_data = {\n",
    "    'age': [50],\n",
    "    'workclass': [-1.2],\n",
    "    'fnlwgt': [3],\n",
    "    'education': [20],\n",
    "    'education.num': [50],\n",
    "    'marital.status': [20],\n",
    "    'occupation': [20],\n",
    "    'relationship': [2],\n",
    "    'race': [3],\n",
    "    'sex': [1],\n",
    "    'capital.gain': [2],\n",
    "    'capital.loss': [1],\n",
    "    'hours.per.week': [6],\n",
    "    'native.country': [3.4]\n",
    "}\n",
    "\n",
    "new_data = pd.DataFrame(new_data)\n",
    "\n",
    "print(new_data)"
   ],
   "outputs": [
    {
     "output_type": "stream",
     "name": "stdout",
     "text": [
      "   age  workclass  fnlwgt  education  education.num  marital.status   \n",
      "0   50       -1.2       3          2              5               2  \\\n",
      "\n",
      "   occupation  relationship  race  sex  capital.gain  capital.loss   \n",
      "0         0.5             2     3    1             2             1  \\\n",
      "\n",
      "   hours.per.week  native.country  \n",
      "0               6             3.4  \n"
     ]
    }
   ],
   "metadata": {}
  },
  {
   "cell_type": "code",
   "execution_count": 45,
   "source": [
    "# what about if I had new data?\n",
    "\n",
    "# Assume new_data is your new data\n",
    "# standardize new data using the SAME scaler\n",
    "new_data_scaled = ss.transform(new_data)\n",
    "\n",
    "# apply PCA using the PCA object from before\n",
    "new_data_pca = pca.transform(new_data_scaled)"
   ],
   "outputs": [
    {
     "output_type": "stream",
     "name": "stderr",
     "text": [
      "/Library/Frameworks/Python.framework/Versions/3.10/lib/python3.10/site-packages/sklearn/base.py:439: UserWarning: X does not have valid feature names, but PCA was fitted with feature names\n",
      "  warnings.warn(\n"
     ]
    }
   ],
   "metadata": {}
  },
  {
   "cell_type": "code",
   "execution_count": 46,
   "source": [
    "# Predict outcomes on the new data\n",
    "new_data_predictions = lr.predict(new_data_pca)"
   ],
   "outputs": [
    {
     "output_type": "stream",
     "name": "stderr",
     "text": [
      "/Library/Frameworks/Python.framework/Versions/3.10/lib/python3.10/site-packages/sklearn/base.py:439: UserWarning: X does not have valid feature names, but LogisticRegression was fitted with feature names\n",
      "  warnings.warn(\n"
     ]
    }
   ],
   "metadata": {}
  },
  {
   "cell_type": "code",
   "execution_count": 47,
   "source": [
    "new_data_predictions"
   ],
   "outputs": [
    {
     "output_type": "execute_result",
     "data": {
      "text/plain": [
       "array(['<=50K'], dtype=object)"
      ]
     },
     "metadata": {},
     "execution_count": 47
    }
   ],
   "metadata": {}
  },
  {
   "cell_type": "code",
   "execution_count": null,
   "source": [],
   "outputs": [],
   "metadata": {}
  }
 ],
 "metadata": {
  "orig_nbformat": 4,
  "language_info": {
   "name": "python",
   "version": "3.10.1",
   "mimetype": "text/x-python",
   "codemirror_mode": {
    "name": "ipython",
    "version": 3
   },
   "pygments_lexer": "ipython3",
   "nbconvert_exporter": "python",
   "file_extension": ".py"
  },
  "kernelspec": {
   "name": "python3",
   "display_name": "Python 3.10.1 64-bit"
  },
  "interpreter": {
   "hash": "aee8b7b246df8f9039afb4144a1f6fd8d2ca17a180786b69acc140d282b71a49"
  }
 },
 "nbformat": 4,
 "nbformat_minor": 2
}